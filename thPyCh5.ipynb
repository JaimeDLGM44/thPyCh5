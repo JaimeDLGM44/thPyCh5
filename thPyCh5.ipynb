{
 "cells": [
  {
   "cell_type": "markdown",
   "metadata": {},
   "source": [
    "## Chapter 5 - Conditionals and Recursion\n",
    "The main topic is the if statement (which we've briefly looked at already) but we also want to introduce modulus and floor."
   ]
  },
  {
   "cell_type": "markdown",
   "metadata": {},
   "source": [
    "You may recall in doing division, one way of representing your answer, the Dividend and Remainder way.  \n",
    "I.e., 7/2 = 3 R 1, or 17/3 = 5 R 2\n",
    "\n",
    "We can produce these pieces by using floor division, i.e. //, and modulus, i.e. %.\n"
   ]
  },
  {
   "cell_type": "code",
   "execution_count": 1,
   "metadata": {},
   "outputs": [
    {
     "data": {
      "text/plain": [
       "3"
      ]
     },
     "execution_count": 1,
     "metadata": {},
     "output_type": "execute_result"
    }
   ],
   "source": [
    "7 // 2"
   ]
  },
  {
   "cell_type": "code",
   "execution_count": 2,
   "metadata": {},
   "outputs": [
    {
     "data": {
      "text/plain": [
       "1"
      ]
     },
     "execution_count": 2,
     "metadata": {},
     "output_type": "execute_result"
    }
   ],
   "source": [
    "7 % 2 #gives the remainder after the division (remainder is what's left minus the divisible whole number)\n",
    "#3 twos fit in 7, so 7-6 is 1, so remainder 1"
   ]
  },
  {
   "cell_type": "code",
   "execution_count": 3,
   "metadata": {},
   "outputs": [
    {
     "data": {
      "text/plain": [
       "5"
      ]
     },
     "execution_count": 3,
     "metadata": {},
     "output_type": "execute_result"
    }
   ],
   "source": [
    "17// 3"
   ]
  },
  {
   "cell_type": "code",
   "execution_count": 4,
   "metadata": {},
   "outputs": [
    {
     "data": {
      "text/plain": [
       "2"
      ]
     },
     "execution_count": 4,
     "metadata": {},
     "output_type": "execute_result"
    }
   ],
   "source": [
    "17% 3"
   ]
  },
  {
   "cell_type": "code",
   "execution_count": 5,
   "metadata": {},
   "outputs": [
    {
     "name": "stdout",
     "output_type": "stream",
     "text": [
      "17 divided by 3 is 5 remainder 2\n"
     ]
    }
   ],
   "source": [
    "print(\"17 divided by 3 is\",17//3, \"remainder\", 17%3)"
   ]
  },
  {
   "cell_type": "code",
   "execution_count": 6,
   "metadata": {},
   "outputs": [
    {
     "name": "stdout",
     "output_type": "stream",
     "text": [
      "Enter an integer: \n"
     ]
    },
    {
     "ename": "ValueError",
     "evalue": "invalid literal for int() with base 10: ''",
     "output_type": "error",
     "traceback": [
      "\u001b[0;31m---------------------------------------------------------------------------\u001b[0m",
      "\u001b[0;31mValueError\u001b[0m                                Traceback (most recent call last)",
      "\u001b[0;32m/var/folders/jn/3sv3k8d13q1_4rx4q55j249r0000gp/T/ipykernel_3173/352198727.py\u001b[0m in \u001b[0;36m<module>\u001b[0;34m\u001b[0m\n\u001b[1;32m      1\u001b[0m \u001b[0;31m#Much of the time in this course, we will use Modulus to check for even or odd-ness, or more broadly,\u001b[0m\u001b[0;34m\u001b[0m\u001b[0;34m\u001b[0m\u001b[0m\n\u001b[1;32m      2\u001b[0m \u001b[0;31m#divisibility by checking to see if the remainder after division equals zero.\u001b[0m\u001b[0;34m\u001b[0m\u001b[0;34m\u001b[0m\u001b[0m\n\u001b[0;32m----> 3\u001b[0;31m \u001b[0mmy_num\u001b[0m \u001b[0;34m=\u001b[0m \u001b[0mint\u001b[0m\u001b[0;34m(\u001b[0m\u001b[0minput\u001b[0m\u001b[0;34m(\u001b[0m\u001b[0;34m\"Enter an integer: \"\u001b[0m\u001b[0;34m)\u001b[0m\u001b[0;34m)\u001b[0m\u001b[0;34m\u001b[0m\u001b[0;34m\u001b[0m\u001b[0m\n\u001b[0m\u001b[1;32m      4\u001b[0m \u001b[0;32mif\u001b[0m\u001b[0;34m(\u001b[0m\u001b[0mmy_num\u001b[0m \u001b[0;34m%\u001b[0m \u001b[0;36m2\u001b[0m \u001b[0;34m==\u001b[0m \u001b[0;36m0\u001b[0m\u001b[0;34m)\u001b[0m\u001b[0;34m:\u001b[0m \u001b[0;31m#every even number (interger so no decimal) divided by 2 has remainder of 0\u001b[0m\u001b[0;34m\u001b[0m\u001b[0;34m\u001b[0m\u001b[0m\n\u001b[1;32m      5\u001b[0m     \u001b[0mprint\u001b[0m\u001b[0;34m(\u001b[0m\u001b[0mmy_num\u001b[0m\u001b[0;34m,\u001b[0m \u001b[0;34m\"is even.\"\u001b[0m\u001b[0;34m)\u001b[0m\u001b[0;34m\u001b[0m\u001b[0;34m\u001b[0m\u001b[0m\n",
      "\u001b[0;31mValueError\u001b[0m: invalid literal for int() with base 10: ''"
     ]
    }
   ],
   "source": [
    "#Much of the time in this course, we will use Modulus to check for even or odd-ness, or more broadly, \n",
    "#divisibility by checking to see if the remainder after division equals zero.\n",
    "my_num = int(input(\"Enter an integer: \"))\n",
    "if(my_num % 2 == 0): #every even number (interger so no decimal) divided by 2 has remainder of 0\n",
    "    print(my_num, \"is even.\")\n",
    "else:\n",
    "    print(my_num, \"is odd.\")"
   ]
  },
  {
   "cell_type": "markdown",
   "metadata": {},
   "source": [
    "## The modulus operator actually opens the door for mathematicians to an entire universe of study.  Within Number Theory and Abstract Algebra, the \"integers modulus p\" where p is prime generates what's called a \"group.\"  The relationships of members of this group have countless applications including cryptography, integer factorization, and molecular modeling for chemistry and pharmaceuticals."
   ]
  },
  {
   "cell_type": "markdown",
   "metadata": {},
   "source": [
    "# Boolean expressions"
   ]
  },
  {
   "cell_type": "code",
   "execution_count": 7,
   "metadata": {},
   "outputs": [
    {
     "data": {
      "text/plain": [
       "True"
      ]
     },
     "execution_count": 7,
     "metadata": {},
     "output_type": "execute_result"
    }
   ],
   "source": [
    "#boolean expressions are expressions that evaluate to either True or False.  \n",
    "5 == 5"
   ]
  },
  {
   "cell_type": "code",
   "execution_count": 8,
   "metadata": {},
   "outputs": [
    {
     "data": {
      "text/plain": [
       "False"
      ]
     },
     "execution_count": 8,
     "metadata": {},
     "output_type": "execute_result"
    }
   ],
   "source": [
    "5 == 6"
   ]
  },
  {
   "cell_type": "code",
   "execution_count": 9,
   "metadata": {},
   "outputs": [],
   "source": [
    "#CAREFUL: \"=\" is not a relational operator (it's assignment)\n",
    "#    \"==\" is the relational operator for equality.\n",
    "#The other relational operators in Python are: \n",
    "#      x != y               # x is not equal to y\n",
    "#      x > y                # x is greater than y\n",
    "#      x < y                # x is less than y\n",
    "#      x >= y               # x is greater than or equal to y\n",
    "#      x <= y               # x is less than or equal to y"
   ]
  },
  {
   "cell_type": "markdown",
   "metadata": {},
   "source": [
    "# Logical Operators  \n",
    "and, or and not can modify and join booleans.  \n",
    "They mean the same as Union and Intersection from prior math classes."
   ]
  },
  {
   "cell_type": "code",
   "execution_count": 10,
   "metadata": {},
   "outputs": [
    {
     "data": {
      "text/plain": [
       "False"
      ]
     },
     "execution_count": 10,
     "metadata": {},
     "output_type": "execute_result"
    }
   ],
   "source": [
    "True and False"
   ]
  },
  {
   "cell_type": "code",
   "execution_count": 11,
   "metadata": {},
   "outputs": [
    {
     "data": {
      "text/plain": [
       "True"
      ]
     },
     "execution_count": 11,
     "metadata": {},
     "output_type": "execute_result"
    }
   ],
   "source": [
    "True or False"
   ]
  },
  {
   "cell_type": "code",
   "execution_count": 12,
   "metadata": {},
   "outputs": [
    {
     "data": {
      "text/plain": [
       "False"
      ]
     },
     "execution_count": 12,
     "metadata": {},
     "output_type": "execute_result"
    }
   ],
   "source": [
    "not True"
   ]
  },
  {
   "cell_type": "code",
   "execution_count": 13,
   "metadata": {},
   "outputs": [
    {
     "data": {
      "text/plain": [
       "True"
      ]
     },
     "execution_count": 13,
     "metadata": {},
     "output_type": "execute_result"
    }
   ],
   "source": [
    "not False"
   ]
  },
  {
   "cell_type": "code",
   "execution_count": 14,
   "metadata": {},
   "outputs": [
    {
     "data": {
      "text/plain": [
       "True"
      ]
     },
     "execution_count": 14,
     "metadata": {},
     "output_type": "execute_result"
    }
   ],
   "source": [
    "5 == 6 or not(6 == 7)"
   ]
  },
  {
   "cell_type": "markdown",
   "metadata": {},
   "source": [
    "# Conditional Execution  \n",
    "As you saw above, we can execute different pieces of code based on different conditions."
   ]
  },
  {
   "cell_type": "code",
   "execution_count": 15,
   "metadata": {},
   "outputs": [
    {
     "name": "stdout",
     "output_type": "stream",
     "text": [
      "Hello world.\n",
      "Math.\n",
      "c wins\n"
     ]
    }
   ],
   "source": [
    "if(True):\n",
    "    print(\"Hello world.\")\n",
    "#this is only done if the above condition holds true...in this case it always holds true.\n",
    "\n",
    "if( 5 == 5):\n",
    "    print(\"Math.\")\n",
    "    #more things that you might do in \"block 1\"\n",
    "else:\n",
    "    print(\"Not Math.\")\n",
    "    #more things that you also might do in \"block 2\"\n",
    "#this if / else block will do the first block if the item in the if() is true, and the second block otherwise\n",
    "\n",
    "my_var = 'c'\n",
    "if(my_var == 'a'):\n",
    "    print(\"a wins\")\n",
    "elif(my_var == 'b'):\n",
    "    print(\"b wins\")\n",
    "elif(my_var == 'c'):\n",
    "    print(\"c wins\")\n",
    "else:\n",
    "    print(\"i give up guessing\")\n",
    "    \n",
    "#In this case we can have a chain of elif's that could each handle a different case, \n",
    "#if the correct case hasn't been found yet."
   ]
  },
  {
   "cell_type": "code",
   "execution_count": 16,
   "metadata": {},
   "outputs": [
    {
     "name": "stdout",
     "output_type": "stream",
     "text": [
      "Math?  Yes or no: \n",
      "Interesting idea...but what about math?\n"
     ]
    }
   ],
   "source": [
    "#But this is somewhat boring..unless we make it customizable:\n",
    "my_answer = input(\"Math?  Yes or no: \")\n",
    "if(my_answer == \"Yes\" or my_answer == \"yes\" or my_answer == \"math\" or my_answer == 'Math'): #all of these ors' are acceptable options for if command\n",
    "    print(\"Yes, of course, math.\")\n",
    "else:\n",
    "    print(\"Interesting idea...but what about math?\")"
   ]
  },
  {
   "cell_type": "code",
   "execution_count": 17,
   "metadata": {},
   "outputs": [
    {
     "name": "stdout",
     "output_type": "stream",
     "text": [
      "my vars don't match\n"
     ]
    }
   ],
   "source": [
    "# We can also nest conditionals:\n",
    "my_var = \"a\"\n",
    "my_other_var = \"b\"\n",
    "if(my_var ==  'a'):\n",
    "    if(my_other_var == 'a'):\n",
    "        print(\"my vars match\")\n",
    "    else:\n",
    "        print(\"my vars don't match\")\n",
    "else:\n",
    "    if(my_other_var == 'b'):\n",
    "        print(\"my vars match\")\n",
    "    else:\n",
    "        print(\"my vars don't match\")\n",
    "#Change up the vars to verify.\n",
    "\n"
   ]
  },
  {
   "cell_type": "markdown",
   "metadata": {},
   "source": [
    "# Recursion  \n",
    "Recursion is amazing, but with a drawback.  Recursive functions reference themselves in their definition.  They should also eventually \"stop\", with a \"base case\".\n"
   ]
  },
  {
   "cell_type": "code",
   "execution_count": 18,
   "metadata": {},
   "outputs": [],
   "source": [
    "def countdown(n):\n",
    "    if n <= 0:\n",
    "        print('Blastoff!')\n",
    "    else:\n",
    "        print(n)\n",
    "        countdown(n-1)"
   ]
  },
  {
   "cell_type": "code",
   "execution_count": 19,
   "metadata": {},
   "outputs": [
    {
     "name": "stdout",
     "output_type": "stream",
     "text": [
      "5\n",
      "4\n",
      "3\n",
      "2\n",
      "1\n",
      "Blastoff!\n"
     ]
    }
   ],
   "source": [
    "countdown(5)"
   ]
  },
  {
   "cell_type": "code",
   "execution_count": 20,
   "metadata": {},
   "outputs": [
    {
     "name": "stdout",
     "output_type": "stream",
     "text": [
      "Blastoff!\n"
     ]
    }
   ],
   "source": [
    "countdown(0)"
   ]
  },
  {
   "cell_type": "code",
   "execution_count": 21,
   "metadata": {},
   "outputs": [],
   "source": [
    "#Beware infinite recursion!  - write an example of infinite recursion.\n"
   ]
  },
  {
   "cell_type": "code",
   "execution_count": 22,
   "metadata": {},
   "outputs": [
    {
     "data": {
      "text/plain": [
       "720"
      ]
     },
     "execution_count": 22,
     "metadata": {},
     "output_type": "execute_result"
    }
   ],
   "source": [
    "# What's the drawback or other drawbacks?\n",
    "# discuss factorials and fibonacci sequence\n",
    "#factorial (of term x!)\n",
    "#5! = 5 * 4 * 3 * 2 * 1 = 120 \n",
    "#5! also equalls 5 * (4!)\n",
    "#so factorial 3, is calling factorial 2, is calling factorial 1\n",
    "#Factorial:\n",
    "#n factorial is n times all the numbers less than it down to one (factoring machine)\n",
    "def factorial(n):\n",
    "    if n>0:\n",
    "        return n*factorial(n-1)\n",
    "    else:\n",
    "        return 1\n",
    "    \n",
    "factorial(6)"
   ]
  },
  {
   "cell_type": "code",
   "execution_count": 23,
   "metadata": {},
   "outputs": [],
   "source": [
    "#gamma function is an extension of both functions above, but we are not going to use it"
   ]
  },
  {
   "cell_type": "code",
   "execution_count": 24,
   "metadata": {},
   "outputs": [
    {
     "data": {
      "text/plain": [
       "200896062499134299656951336898466838917540340798867777940435335160044860953395980941180138112097309735631594101037399609671032132186331495273609598531966730972945653558819806475064353856858157445040809209560358463319644664891114256430017824141796753818192338642302693327818731986039603200000000000000000000000000000000000000000000"
      ]
     },
     "execution_count": 24,
     "metadata": {},
     "output_type": "execute_result"
    }
   ],
   "source": [
    "#factorial with loops\n",
    "#in general, recursive functions are shorter to write and often simpler to read, However, they often lake\n",
    "#more memory to run; and are limited by recursion dept limits\n",
    "#they may be faster or slower than itertive (loop) approach\n",
    "def factloop(n):\n",
    "    total = 1\n",
    "    for i in range (n,0,-1):\n",
    "        total *= i\n",
    "    return total\n",
    "\n",
    "factloop(180)"
   ]
  },
  {
   "cell_type": "code",
   "execution_count": 25,
   "metadata": {},
   "outputs": [
    {
     "data": {
      "text/plain": [
       "21"
      ]
     },
     "execution_count": 25,
     "metadata": {},
     "output_type": "execute_result"
    }
   ],
   "source": [
    "#fibonacci sequence, start with 0,1 or 1,1\n",
    "#each next term is the sum of the previous 2 terms, so 0,1,2,3,5,8,13,21,34....\n",
    "def fib(n):  #n being the inf term of sequence\n",
    "    if n==0:  #base case, in this case use first and second terms 0,1\n",
    "        return 0\n",
    "    elif n==1:\n",
    "        return 1\n",
    "    else: #ie n greater than or equall to 2\n",
    "        return fib(n-1) + fib(n-2) #this is the fibonacci sequence\n",
    "    \n",
    "fib(8) #nth term value\n",
    "#if you have a function that calls itself twice, be careful"
   ]
  },
  {
   "cell_type": "code",
   "execution_count": 26,
   "metadata": {},
   "outputs": [
    {
     "name": "stdout",
     "output_type": "stream",
     "text": [
      "runtime: 1.959437608718872\n"
     ]
    }
   ],
   "source": [
    "import time\n",
    "start = time.time()\n",
    "fib(33)\n",
    "end = time.time()\n",
    "print(\"runtime:\",end-start)"
   ]
  },
  {
   "cell_type": "code",
   "execution_count": 27,
   "metadata": {},
   "outputs": [
    {
     "name": "stdout",
     "output_type": "stream",
     "text": [
      "2.449489742783178\n"
     ]
    }
   ],
   "source": [
    "def warmup(x):\n",
    "    x=x**(1/2) #square root of x\n",
    "    if x>2:\n",
    "        print(x)\n",
    "        warmup(x)\n",
    "        \n",
    "warmup(6)"
   ]
  },
  {
   "cell_type": "code",
   "execution_count": 28,
   "metadata": {},
   "outputs": [
    {
     "data": {
      "text/plain": [
       "45.00000000000001"
      ]
     },
     "execution_count": 28,
     "metadata": {},
     "output_type": "execute_result"
    }
   ],
   "source": [
    "from math import *\n",
    "asin((2**0.5)/2)*180/pi #pythagorean theorem and radians to degrees conversion"
   ]
  },
  {
   "cell_type": "code",
   "execution_count": 32,
   "metadata": {},
   "outputs": [
    {
     "name": "stdout",
     "output_type": "stream",
     "text": [
      "write a number hello\n",
      "\n",
      "hello\n",
      "\n",
      "hellohello\n",
      "\n",
      "hellohellohellohello\n",
      "\n",
      "hellohellohellohellohellohellohellohello\n",
      "\n",
      "hellohellohellohellohellohellohellohellohellohellohellohellohellohellohellohello\n"
     ]
    }
   ],
   "source": [
    "# write a recursive function to take a user input, then recursively concatenate the current total string\n",
    "#to itself untill the length is over 9000\n",
    "x = input(\"write a number \")\n",
    "def concatenate50(x):\n",
    "    x=str(x)\n",
    "    print('')\n",
    "    if len(x)>50:\n",
    "        print(x)\n",
    "    else:\n",
    "        print(x)\n",
    "        concatenate50(x+x) #each time, adds another \"same word\" and redoes a longer line until 50 words\n",
    "concatenate50(x)"
   ]
  },
  {
   "cell_type": "code",
   "execution_count": 31,
   "metadata": {},
   "outputs": [],
   "source": [
    "pass #don't get mad at me python, it means do nothing/empty"
   ]
  },
  {
   "cell_type": "code",
   "execution_count": 34,
   "metadata": {},
   "outputs": [],
   "source": [
    "#more turtle, recursively drawing y figures\n",
    "from turtle import *\n",
    "scr=Screen()\n",
    "t=RawTurtle(scr)\n",
    "\n",
    "def draw(t, length, n):\n",
    "    if n==0:\n",
    "        return\n",
    "    angle = 60\n",
    "    t.fd(length*n)\n",
    "    t.lt(angle)\n",
    "    draw(t, length, n-1)\n",
    "    t.rt(2*angle)\n",
    "    draw(t, length, n-1)\n",
    "    t.lt(angle)\n",
    "    t.bk(length*n)\n",
    "    \n",
    "draw(t, 50, 3)"
   ]
  },
  {
   "cell_type": "code",
   "execution_count": null,
   "metadata": {},
   "outputs": [],
   "source": []
  }
 ],
 "metadata": {
  "kernelspec": {
   "display_name": "Python 3 (ipykernel)",
   "language": "python",
   "name": "python3"
  },
  "language_info": {
   "codemirror_mode": {
    "name": "ipython",
    "version": 3
   },
   "file_extension": ".py",
   "mimetype": "text/x-python",
   "name": "python",
   "nbconvert_exporter": "python",
   "pygments_lexer": "ipython3",
   "version": "3.9.7"
  }
 },
 "nbformat": 4,
 "nbformat_minor": 4
}
