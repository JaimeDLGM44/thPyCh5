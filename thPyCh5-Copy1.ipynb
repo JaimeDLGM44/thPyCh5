{
 "cells": [
  {
   "cell_type": "markdown",
   "metadata": {},
   "source": [
    "## Chapter 5 - Conditionals and Recursion\n",
    "The main topic is the if statement (which we've briefly looked at already) but we also want to introduce modulus and floor division."
   ]
  },
  {
   "cell_type": "markdown",
   "metadata": {},
   "source": [
    "You may recall in doing division, one way of representing your answer, the Dividend and Remainder way.  \n",
    "I.e., 7/2 = 3 R 1, or 17/3 = 5 R 2\n",
    "\n",
    "We can produce these pieces by using floor division, i.e. //, and modulus, i.e. %.\n"
   ]
  },
  {
   "cell_type": "code",
   "execution_count": 2,
   "metadata": {},
   "outputs": [
    {
     "data": {
      "text/plain": [
       "3"
      ]
     },
     "execution_count": 2,
     "metadata": {},
     "output_type": "execute_result"
    }
   ],
   "source": [
    "7 // 2"
   ]
  },
  {
   "cell_type": "code",
   "execution_count": 3,
   "metadata": {},
   "outputs": [
    {
     "data": {
      "text/plain": [
       "1"
      ]
     },
     "execution_count": 3,
     "metadata": {},
     "output_type": "execute_result"
    }
   ],
   "source": [
    "7 % 2"
   ]
  },
  {
   "cell_type": "code",
   "execution_count": 3,
   "metadata": {},
   "outputs": [
    {
     "data": {
      "text/plain": [
       "4"
      ]
     },
     "execution_count": 3,
     "metadata": {},
     "output_type": "execute_result"
    }
   ],
   "source": [
    "# 42//9"
   ]
  },
  {
   "cell_type": "code",
   "execution_count": 4,
   "metadata": {},
   "outputs": [
    {
     "data": {
      "text/plain": [
       "5"
      ]
     },
     "execution_count": 4,
     "metadata": {},
     "output_type": "execute_result"
    }
   ],
   "source": [
    "17// 3"
   ]
  },
  {
   "cell_type": "code",
   "execution_count": 5,
   "metadata": {},
   "outputs": [
    {
     "data": {
      "text/plain": [
       "2"
      ]
     },
     "execution_count": 5,
     "metadata": {},
     "output_type": "execute_result"
    }
   ],
   "source": [
    "17% 3"
   ]
  },
  {
   "cell_type": "code",
   "execution_count": 19,
   "metadata": {},
   "outputs": [
    {
     "name": "stdout",
     "output_type": "stream",
     "text": [
      "17 divided by 3 is 5 remainder 2\n"
     ]
    }
   ],
   "source": [
    "print(\"17 divided by 3 is\",17//3, \"remainder\", 17%3)"
   ]
  },
  {
   "cell_type": "code",
   "execution_count": 7,
   "metadata": {},
   "outputs": [
    {
     "name": "stdout",
     "output_type": "stream",
     "text": [
      "Enter an integer: -71\n",
      "-71 is odd.\n"
     ]
    }
   ],
   "source": [
    "#Much of the time in this course, we will use Modulus to check for even or odd-ness, or more broadly, \n",
    "#divisibility by checking to see if the remainder after division equals zero.\n",
    "my_num = int(input(\"Enter an integer: \"))\n",
    "if(my_num % 2 == 0):\n",
    "    print(my_num, \"is even.\")\n",
    "else:\n",
    "    print(my_num, \"is odd.\")"
   ]
  },
  {
   "cell_type": "code",
   "execution_count": 34,
   "metadata": {},
   "outputs": [
    {
     "name": "stdout",
     "output_type": "stream",
     "text": [
      "Enter an integer: 18\n",
      "Enter another integer: 9\n",
      "18 is divisible by 9\n",
      "18 divided by 9 equals 2\n"
     ]
    }
   ],
   "source": [
    "# find if one number is a factor of another\n",
    "my_num = int(input(\"Enter an integer: \"))\n",
    "my_num2 = int(input(\"Enter another integer: \"))\n",
    "if(my_num % my_num2 == 0):\n",
    "    print(my_num, \"is divisible by\", my_num2)\n",
    "    print(my_num,\"divided by\",my_num2,\"equals\",my_num//my_num2)\n",
    "else:\n",
    "    print(my_num, \"is not divisible by\", my_num2)\n",
    "    "
   ]
  },
  {
   "cell_type": "code",
   "execution_count": 17,
   "metadata": {},
   "outputs": [
    {
     "name": "stdout",
     "output_type": "stream",
     "text": [
      "5028546648153805.0\n"
     ]
    },
    {
     "data": {
      "text/plain": [
       "5028546648153805.0"
      ]
     },
     "execution_count": 17,
     "metadata": {},
     "output_type": "execute_result"
    }
   ],
   "source": [
    "#print(1765019873501985710/351)\n",
    "1765019873501985710/351  #- 5028546648153805\n"
   ]
  },
  {
   "cell_type": "code",
   "execution_count": 16,
   "metadata": {},
   "outputs": [
    {
     "data": {
      "text/plain": [
       "1765019873501985555"
      ]
     },
     "execution_count": 16,
     "metadata": {},
     "output_type": "execute_result"
    }
   ],
   "source": [
    "5028546648153805 * 351"
   ]
  },
  {
   "cell_type": "markdown",
   "metadata": {},
   "source": [
    "## The modulus operator actually opens the door for mathematicians to an entire universe of study.  Within Number Theory and Abstract Algebra, the \"integers modulus p\" where p is prime generates what's called a \"group.\"  The relationships of members of this group have countless applications including cryptography, integer factorization, and molecular modeling for chemistry and pharmaceuticals."
   ]
  },
  {
   "cell_type": "markdown",
   "metadata": {},
   "source": [
    "# Boolean expressions"
   ]
  },
  {
   "cell_type": "code",
   "execution_count": 18,
   "metadata": {},
   "outputs": [
    {
     "data": {
      "text/plain": [
       "True"
      ]
     },
     "execution_count": 18,
     "metadata": {},
     "output_type": "execute_result"
    }
   ],
   "source": [
    "#boolean expressions are expressions that evaluate to either True or False.  \n",
    "5 == 5"
   ]
  },
  {
   "cell_type": "code",
   "execution_count": 21,
   "metadata": {},
   "outputs": [
    {
     "data": {
      "text/plain": [
       "False"
      ]
     },
     "execution_count": 21,
     "metadata": {},
     "output_type": "execute_result"
    }
   ],
   "source": [
    "5 == 6\n",
    "# not x = 5 !\n",
    "#5 = 6"
   ]
  },
  {
   "cell_type": "code",
   "execution_count": 10,
   "metadata": {},
   "outputs": [],
   "source": [
    "#CAREFUL: \"=\" is not a relational operator (it's assignment)\n",
    "#    \"==\" is the relational operator for equality.\n",
    "#The other relational operators in Python are: \n",
    "#      x != y               # x is not equal to y\n",
    "#      x > y                # x is greater than y\n",
    "#      x < y                # x is less than y\n",
    "#      x >= y               # x is greater than or equal to y\n",
    "#      x <= y               # x is less than or equal to y"
   ]
  },
  {
   "cell_type": "code",
   "execution_count": 27,
   "metadata": {},
   "outputs": [
    {
     "data": {
      "text/plain": [
       "False"
      ]
     },
     "execution_count": 27,
     "metadata": {},
     "output_type": "execute_result"
    }
   ],
   "source": [
    "'hello' != 'hello'"
   ]
  },
  {
   "cell_type": "markdown",
   "metadata": {},
   "source": [
    "# Logical Operators  \n",
    "and, or and not can modify and join booleans.  \n",
    "They mean the same as Union and Intersection from prior math classes."
   ]
  },
  {
   "cell_type": "code",
   "execution_count": 28,
   "metadata": {},
   "outputs": [
    {
     "data": {
      "text/plain": [
       "False"
      ]
     },
     "execution_count": 28,
     "metadata": {},
     "output_type": "execute_result"
    }
   ],
   "source": [
    "True and False\n",
    "#it is cold today and there are 3 planets named jupiter in this solar system"
   ]
  },
  {
   "cell_type": "code",
   "execution_count": 13,
   "metadata": {},
   "outputs": [
    {
     "data": {
      "text/plain": [
       "True"
      ]
     },
     "execution_count": 13,
     "metadata": {},
     "output_type": "execute_result"
    }
   ],
   "source": [
    "True or False\n",
    "#it is Tuesday or bananas regularly spontaneously combust"
   ]
  },
  {
   "cell_type": "code",
   "execution_count": 16,
   "metadata": {},
   "outputs": [
    {
     "data": {
      "text/plain": [
       "False"
      ]
     },
     "execution_count": 16,
     "metadata": {},
     "output_type": "execute_result"
    }
   ],
   "source": [
    "not True"
   ]
  },
  {
   "cell_type": "code",
   "execution_count": 17,
   "metadata": {},
   "outputs": [
    {
     "data": {
      "text/plain": [
       "True"
      ]
     },
     "execution_count": 17,
     "metadata": {},
     "output_type": "execute_result"
    }
   ],
   "source": [
    "not False"
   ]
  },
  {
   "cell_type": "code",
   "execution_count": 29,
   "metadata": {},
   "outputs": [
    {
     "data": {
      "text/plain": [
       "True"
      ]
     },
     "execution_count": 29,
     "metadata": {},
     "output_type": "execute_result"
    }
   ],
   "source": [
    "not not True"
   ]
  },
  {
   "cell_type": "code",
   "execution_count": 18,
   "metadata": {},
   "outputs": [
    {
     "data": {
      "text/plain": [
       "True"
      ]
     },
     "execution_count": 18,
     "metadata": {},
     "output_type": "execute_result"
    }
   ],
   "source": [
    "5 == 6 or not(6 == 7)"
   ]
  },
  {
   "cell_type": "code",
   "execution_count": 30,
   "metadata": {},
   "outputs": [],
   "source": [
    "x = True\n",
    "y = True\n",
    "z = False"
   ]
  },
  {
   "cell_type": "code",
   "execution_count": 32,
   "metadata": {},
   "outputs": [
    {
     "data": {
      "text/plain": [
       "True"
      ]
     },
     "execution_count": 32,
     "metadata": {},
     "output_type": "execute_result"
    }
   ],
   "source": [
    "x or y or z"
   ]
  },
  {
   "cell_type": "code",
   "execution_count": 33,
   "metadata": {},
   "outputs": [
    {
     "data": {
      "text/plain": [
       "True"
      ]
     },
     "execution_count": 33,
     "metadata": {},
     "output_type": "execute_result"
    }
   ],
   "source": [
    "(x or y) and (y or z)\n",
    "# True  and   True\n",
    "#       True"
   ]
  },
  {
   "cell_type": "markdown",
   "metadata": {},
   "source": [
    "# Truth Table\n",
    "#a way to represent outcomes of a boolean expression based on differing inputs\n",
    "\n",
    "    a  |  b   |   a or b  |  a and b|a and not b| a or not(a and b) and (not a or b)\n",
    "    T     T         T         T              F      ? \n",
    "    T     F         T         F              T      ?\n",
    "    F.    T         T         F              F      ?\n",
    "    F.    F         F         F              F      ?\n",
    "    \n",
    "    for any two expressions that have the same truth table output, those expressions are logically equivalent\n",
    "    \n"
   ]
  },
  {
   "cell_type": "markdown",
   "metadata": {},
   "source": [
    "# Conditional Execution  \n",
    "As you saw above, we can execute different pieces of code based on different conditions."
   ]
  },
  {
   "cell_type": "code",
   "execution_count": 30,
   "metadata": {},
   "outputs": [
    {
     "name": "stdout",
     "output_type": "stream",
     "text": [
      "Hello world.\n",
      "Math.\n",
      "c wins\n"
     ]
    }
   ],
   "source": [
    "if(True):\n",
    "    print(\"Hello world.\")\n",
    "#this is only done if the above condition holds true...in this case it always holds true.\n",
    "\n",
    "if( 5 == 5):\n",
    "    print(\"Math.\")\n",
    "    #more things that you might do in \"block 1\"\n",
    "else:\n",
    "    print(\"Not Math.\")\n",
    "    #more things that you also might do in \"block 2\"\n",
    "#this if / else block will do the first block if the item in the if() is true, and the second block otherwise\n",
    "\n",
    "my_var = 'c'\n",
    "if(my_var == 'a'):\n",
    "    print(\"a wins\")\n",
    "elif(my_var == 'b'):\n",
    "    print(\"b wins\")\n",
    "elif(my_var == 'c'):\n",
    "    print(\"c wins\")\n",
    "else:\n",
    "    print(\"i give up guessing\")\n",
    "    \n",
    "#In this case we can have a chain of elif's that could each handle a different case, \n",
    "#if the correct case hasn't been found yet."
   ]
  },
  {
   "cell_type": "code",
   "execution_count": 28,
   "metadata": {},
   "outputs": [
    {
     "name": "stdout",
     "output_type": "stream",
     "text": [
      "Math?  Yes or no: no\n",
      "Interesting...but what about math?\n"
     ]
    }
   ],
   "source": [
    "#But this is somewhat boring..unless we make it customizable:\n",
    "my_answer = input(\"Math?  Yes or no: \")\n",
    "if(my_answer == \"Yes\" or my_answer == \"yes\" or my_answer == \"math\" or my_answer == 'Math'):\n",
    "    print(\"Yes, of course, math.\")\n",
    "else:\n",
    "    print(\"Interesting idea...but what about math?\")"
   ]
  },
  {
   "cell_type": "code",
   "execution_count": 37,
   "metadata": {},
   "outputs": [
    {
     "name": "stdout",
     "output_type": "stream",
     "text": [
      "my vars don't match\n"
     ]
    }
   ],
   "source": [
    "# We can also nest conditionals:\n",
    "my_var = \"a\"\n",
    "my_other_var = \"b\"\n",
    "if(my_var ==  'a'):\n",
    "    if(my_other_var == 'a'):\n",
    "        print(\"my vars match\")\n",
    "    else:\n",
    "        print(\"my vars don't match\")\n",
    "else:\n",
    "    if(my_other_var == 'b'):\n",
    "        print(\"my vars match\")\n",
    "    else:\n",
    "        print(\"my vars don't match\")\n",
    "#Change up the vars to verify.\n",
    "\n"
   ]
  },
  {
   "cell_type": "markdown",
   "metadata": {},
   "source": [
    "# Recursion  \n",
    "Recursion is amazing, but with a drawback.  Recursive functions reference themselves in their definition.  They should also eventually \"stop\", with a \"base case\".\n"
   ]
  },
  {
   "cell_type": "code",
   "execution_count": 2,
   "metadata": {},
   "outputs": [],
   "source": [
    "def countdown(n):\n",
    "    if n <= 0:\n",
    "        print('Blastoff!')\n",
    "    else:\n",
    "        print(n)\n",
    "        countdown(n-1)"
   ]
  },
  {
   "cell_type": "code",
   "execution_count": 4,
   "metadata": {},
   "outputs": [
    {
     "name": "stdout",
     "output_type": "stream",
     "text": [
      "5\n",
      "4\n",
      "3\n",
      "2\n",
      "1\n",
      "Blastoff!\n"
     ]
    }
   ],
   "source": [
    "countdown(5)"
   ]
  },
  {
   "cell_type": "code",
   "execution_count": 5,
   "metadata": {},
   "outputs": [
    {
     "name": "stdout",
     "output_type": "stream",
     "text": [
      "Blastoff!\n"
     ]
    }
   ],
   "source": [
    "countdown(0)"
   ]
  },
  {
   "cell_type": "code",
   "execution_count": 10,
   "metadata": {},
   "outputs": [],
   "source": [
    "#Beware infinite recursion!  - write an example of infinite recursion.\n",
    "def inf_rec():\n",
    "    inf_rec()\n",
    "\n",
    "#inf_rec()\n",
    "\n",
    "def inf_counter(x):\n",
    "    print(x)\n",
    "    inf_counter(x+1)\n",
    "\n",
    "#inf_counter(7)\n",
    "#advantages of recursion : often does a job in only a few lines of code\n",
    "#disadvantages : can often require more than necessary computer resources.\n",
    "\n",
    "#adv/dis of iterative method (non-recursive): can take more code than recursive\n",
    " #can be more efficient on computing resources"
   ]
  },
  {
   "cell_type": "code",
   "execution_count": 42,
   "metadata": {},
   "outputs": [],
   "source": [
    "# What's the drawback or other drawbacks?\n",
    "# discuss factorials and fibonacci sequence"
   ]
  },
  {
   "cell_type": "code",
   "execution_count": 29,
   "metadata": {},
   "outputs": [
    {
     "name": "stdout",
     "output_type": "stream",
     "text": [
      "24\n"
     ]
    }
   ],
   "source": [
    "# factorial function: x!  = x* (x-1)!, if x>=1; \n",
    "#                           1        , if x = 0 \n",
    "#e.g. 4! = 4*3*2*1*1 = 4 *(3*2*1*1) = 4*3*2*1*0!= 4 * 3!\n",
    "#what about 7.6! ? or -2! - there is an extension to the factorial \n",
    "#function but we won't worry about it for now\n",
    "\n",
    "def facto(x):\n",
    "    if x == 0:\n",
    "        return 1\n",
    "    else:\n",
    "        return x * facto(x-1)\n",
    "    \n",
    "print(facto(4))"
   ]
  },
  {
   "cell_type": "code",
   "execution_count": 28,
   "metadata": {},
   "outputs": [
    {
     "name": "stdout",
     "output_type": "stream",
     "text": [
      "9\n",
      "18\n",
      "16\n"
     ]
    }
   ],
   "source": [
    "def squarer(x):\n",
    "    return x**2\n",
    "x = squarer(3)\n",
    "print(x)\n",
    "print(x + x)\n",
    "print(squarer(squarer(2)))"
   ]
  },
  {
   "cell_type": "code",
   "execution_count": 1,
   "metadata": {},
   "outputs": [
    {
     "name": "stdout",
     "output_type": "stream",
     "text": [
      "14930352\n"
     ]
    }
   ],
   "source": [
    "#fibo: f(0) = 0\n",
    "# f(1) = 1\n",
    "#f(i) = f(i-1) + f(i-2), i>1\n",
    "# 0  1  2  3  4  5  6  7   8\n",
    "# 0, 1, 1, 2, 3, 5, 8, 13, 21,...\n",
    "def fibo(i):\n",
    "    if i == 0:\n",
    "        return 0\n",
    "    elif i == 1:\n",
    "        return 1\n",
    "    else:\n",
    "        return fibo(i-1) + fibo(i-2)\n",
    "print(fibo(36))"
   ]
  },
  {
   "cell_type": "code",
   "execution_count": null,
   "metadata": {},
   "outputs": [],
   "source": []
  }
 ],
 "metadata": {
  "kernelspec": {
   "display_name": "Python 3",
   "language": "python",
   "name": "python3"
  },
  "language_info": {
   "codemirror_mode": {
    "name": "ipython",
    "version": 3
   },
   "file_extension": ".py",
   "mimetype": "text/x-python",
   "name": "python",
   "nbconvert_exporter": "python",
   "pygments_lexer": "ipython3",
   "version": "3.8.3"
  }
 },
 "nbformat": 4,
 "nbformat_minor": 4
}
